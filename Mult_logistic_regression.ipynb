{
 "cells": [
  {
   "cell_type": "markdown",
   "id": "400b718a",
   "metadata": {},
   "source": [
    "multi logistic regression\n",
    "- Vectorization\n",
    "- Model training with MNIST dataset"
   ]
  },
  {
   "cell_type": "code",
   "execution_count": 5,
   "id": "eb81ea99",
   "metadata": {},
   "outputs": [],
   "source": [
    "# db, db0 = 0\n",
    "# for x, y in data:\n",
    "#     db += (y - 1/(1+np.exp(-np.dot(b,x)-b0))) * x\n",
    "#     db0 += (y - 1/(1+np.exp(-np.dot(b,x)-b0)))"
   ]
  },
  {
   "cell_type": "code",
   "execution_count": 1,
   "id": "f74ff8d5",
   "metadata": {},
   "outputs": [],
   "source": [
    "import numpy as np\n",
    "import tensorflow as tf"
   ]
  },
  {
   "cell_type": "code",
   "execution_count": 2,
   "id": "83fa18e8",
   "metadata": {},
   "outputs": [],
   "source": [
    "# MNIST dataset parameters\n",
    "num_classes = 10 # 0 to 9 digits\n",
    "num_features = 784 # 28*28\n",
    "\n",
    "# training parameters\n",
    "learning_rate = 0.0001\n",
    "training_steps = 50\n",
    "batch_size = 256\n",
    "display_step = 50"
   ]
  },
  {
   "cell_type": "code",
   "execution_count": 3,
   "id": "11bcfd2a",
   "metadata": {},
   "outputs": [],
   "source": [
    "from tensorflow.keras.datasets import mnist\n",
    "\n",
    "(x_train, y_train), (x_test, y_test) = mnist.load_data()"
   ]
  },
  {
   "cell_type": "code",
   "execution_count": 4,
   "id": "d3f39fc0",
   "metadata": {},
   "outputs": [
    {
     "name": "stdout",
     "output_type": "stream",
     "text": [
      "(60000, 28, 28)\n",
      "(60000,)\n"
     ]
    }
   ],
   "source": [
    "print(x_train.shape)\n",
    "print(y_train.shape)"
   ]
  },
  {
   "cell_type": "code",
   "execution_count": 5,
   "id": "81e31ff6",
   "metadata": {},
   "outputs": [],
   "source": [
    "# convert to float32\n",
    "x_train, x_test = np.array(x_train, np.float32), np.array(x_test, np.float32)\n",
    "y_train, y_test = np.array(y_train, np.float32), np.array(y_test, np.float32)\n",
    "\n",
    "# Flatten images to 1-D vector of 784 features\n",
    "x_train, x_test = x_train.reshape([-1, num_features]), x_test.reshape([-1, num_features])\n",
    "\n",
    "# Normalize images value from [0,255] to [0,1]\n",
    "x_train, x_test = x_train / 255., x_test / 255."
   ]
  },
  {
   "cell_type": "code",
   "execution_count": 6,
   "id": "811f0af4",
   "metadata": {},
   "outputs": [
    {
     "name": "stdout",
     "output_type": "stream",
     "text": [
      "(60000, 784)\n",
      "(10000, 784)\n"
     ]
    }
   ],
   "source": [
    "print(x_train.shape)\n",
    "print(x_test.shape)"
   ]
  },
  {
   "cell_type": "code",
   "execution_count": 7,
   "id": "5010c39e",
   "metadata": {},
   "outputs": [],
   "source": [
    "def logistic_regression(x, b, b0):\n",
    "    return 1. / (1. + np.exp(-np.dot(b,x)-b0))"
   ]
  },
  {
   "cell_type": "code",
   "execution_count": 17,
   "id": "dacff3ed",
   "metadata": {},
   "outputs": [],
   "source": [
    "# y_pred 0~1 , y_true 0~1\n",
    "def accuracy(y_pred, y_true):\n",
    "    correct_prediction = np.equal(np.argmax(y_pred, axis=1), y_true.astype(np.int64))\n",
    "    return np.mean(correct_prediction.astype(np.float32))"
   ]
  },
  {
   "cell_type": "code",
   "execution_count": 10,
   "id": "9deba734",
   "metadata": {},
   "outputs": [],
   "source": [
    "def logistic_regression_wo_vectorization(x_test, b, b0):\n",
    "    pred = list()\n",
    "    for t in x_test:\n",
    "        pred.append(logistic_regression(t, b, b0))\n",
    "    \n",
    "    return pred"
   ]
  },
  {
   "cell_type": "code",
   "execution_count": 15,
   "id": "3b34896f",
   "metadata": {},
   "outputs": [],
   "source": [
    "b = np.random.uniform(-1, 1, num_features*num_classes).reshape((num_classes, num_features))\n",
    "b0 = np.random.uniform(-1, 1, num_classes)\n",
    "\n",
    "for step in range(training_steps):\n",
    "    db = np.zeros((num_classes, num_features), dtype='float32')\n",
    "    db0 = np.zeros(num_classes, dtype='float32')\n",
    "    \n",
    "    for x, y in zip(x_train, y_train):\n",
    "        yy = tf.one_hot(y, depth=num_classes).numpy()\n",
    "        a = logistic_regression(x,b,b0)\n",
    "        db += np.matmul(np.expand_dims(yy-a, axis=-1), np.expand_dims(x,axis=0))\n",
    "        db0 += yy - a\n",
    "        \n",
    "    b += learning_rate * db\n",
    "    b0 += learning_rate * db0"
   ]
  },
  {
   "cell_type": "code",
   "execution_count": 18,
   "id": "9c20fa77",
   "metadata": {},
   "outputs": [
    {
     "name": "stdout",
     "output_type": "stream",
     "text": [
      "Test Accuracy: 0.829100\n"
     ]
    }
   ],
   "source": [
    "pred=logistic_regression_wo_vectorization(x_test, b, b0)\n",
    "print(\"Test Accuracy: %f\" % accuracy(pred, y_test))"
   ]
  },
  {
   "cell_type": "code",
   "execution_count": null,
   "id": "a65580ba-3f5b-4bcb-9ea8-82a94113f00b",
   "metadata": {},
   "outputs": [],
   "source": []
  }
 ],
 "metadata": {
  "kernelspec": {
   "display_name": "Python 3 (ipykernel)",
   "language": "python",
   "name": "python3"
  },
  "language_info": {
   "codemirror_mode": {
    "name": "ipython",
    "version": 3
   },
   "file_extension": ".py",
   "mimetype": "text/x-python",
   "name": "python",
   "nbconvert_exporter": "python",
   "pygments_lexer": "ipython3",
   "version": "3.8.11"
  }
 },
 "nbformat": 4,
 "nbformat_minor": 5
}
