{
 "cells": [
  {
   "cell_type": "code",
   "execution_count": 1,
   "id": "b38d5cc6-88f4-48c5-86c9-5a95134accf7",
   "metadata": {},
   "outputs": [
    {
     "name": "stderr",
     "output_type": "stream",
     "text": [
      "2021-11-23 07:41:17.120757: I tensorflow/stream_executor/platform/default/dso_loader.cc:49] Successfully opened dynamic library libcudart.so.10.1\n"
     ]
    }
   ],
   "source": [
    "import tensorflow as tf\n",
    "import numpy as np"
   ]
  },
  {
   "cell_type": "code",
   "execution_count": 26,
   "id": "298ef030-2d14-4885-8e4c-efea39e0eef2",
   "metadata": {},
   "outputs": [],
   "source": [
    "training_steps = 10000\n",
    "batch_size = 64 \n",
    "latent_dim = 10"
   ]
  },
  {
   "cell_type": "code",
   "execution_count": 27,
   "id": "9fd1d0d7-08d5-4c64-89ed-950387f16beb",
   "metadata": {},
   "outputs": [],
   "source": [
    "(x_train, y_train), (x_test,y_test) = tf.keras.datasets.fashion_mnist.load_data()"
   ]
  },
  {
   "cell_type": "code",
   "execution_count": 28,
   "id": "f9a2f050-4ee0-4021-9894-28f215a28139",
   "metadata": {},
   "outputs": [],
   "source": [
    "x_train, x_test = np.array(x_train,np.float32), np.array(x_test,np.float32)\n",
    "\n",
    "x_train, x_test = x_train/255., x_test/255.\n",
    "\n",
    "x_train, x_test = np.expand_dims(x_train,axis=-1), np.expand_dims(x_test,axis=-1)"
   ]
  },
  {
   "cell_type": "code",
   "execution_count": 29,
   "id": "6dffa0ad-73ff-4616-869c-d9e9b368b404",
   "metadata": {},
   "outputs": [],
   "source": [
    "from tensorflow.keras import Sequential\n",
    "from tensorflow.keras.layers import Conv2D, Conv2DTranspose, MaxPooling2D, UpSampling2D, Flatten, Dense, Reshape, Input, Lambda\n",
    "\n",
    "conv1 = Conv2D(6,kernel_size=(5,5), strides=(1,1), activation = 'relu', input_shape=(28,28,1),padding='same')\n",
    "maxpool1 = MaxPooling2D(pool_size=(2,2), strides=(2,2), padding='valid')\n",
    "conv2 = Conv2D(16,kernel_size=(5,5), strides=(1,1), activation='relu',padding='valid')\n",
    "maxpool2 = MaxPooling2D(pool_size=(2,2), strides=(2,2), padding = 'valid')\n",
    "flat = Flatten()\n",
    "dense = Dense(latent_dim+latent_dim)\n",
    "\n",
    "dense_T = Dense(400,activation='relu')\n",
    "reshape = Reshape((5,5,16))\n",
    "upsample1 = UpSampling2D(size= (2,2))\n",
    "conv1_T = Conv2DTranspose(16,kernel_size=(5,5), strides = (1,1), activation='relu',padding='valid')\n",
    "upsample2=UpSampling2D(size=(2,2))\n",
    "conv2_T = Conv2DTranspose(6,kernel_size=(5,5),strides=(1,1), activation='relu', padding='same')\n",
    "output_T = Conv2DTranspose(1,kernel_size=(3,3),padding='same')"
   ]
  },
  {
   "cell_type": "code",
   "execution_count": 30,
   "id": "03f50938-48dd-4306-88ff-1232cd28aa91",
   "metadata": {},
   "outputs": [],
   "source": [
    "def vae(x,output_apply_sigmoid=False):\n",
    "    _conv1 = conv1(x)\n",
    "    _maxpool1 = maxpool1(_conv1)\n",
    "    _conv2 = conv2(_maxpool1)\n",
    "    _maxpool2 = maxpool2(_conv2)\n",
    "    _flat = flat(_maxpool2)\n",
    "    _dense = dense(_flat)\n",
    "    \n",
    "    mean, logvar = tf.split(_dense, num_or_size_splits = 2, axis=1)\n",
    "    \n",
    "    epsilon = tf.random.normal(shape=tf.shape(mean))\n",
    "    z= mean + tf.exp(0.5*logvar)*epsilon\n",
    "    \n",
    "    _dense_T = dense_T(z)\n",
    "    _reshape = reshape(_dense_T)\n",
    "    _upsample1 = upsample1(_reshape)\n",
    "    _conv1_T = conv1_T(_upsample1)\n",
    "    _upsample2 = upsample2(_conv1_T)\n",
    "    _conv2_T = conv2_T(_upsample2)\n",
    "    logits = output_T(_conv2_T)\n",
    "    \n",
    "    if output_apply_sigmoid:\n",
    "        probs = tf.sigmoid(logits)\n",
    "        return probs, mean, logvar\n",
    "    return logits, mean, logvar"
   ]
  },
  {
   "cell_type": "code",
   "execution_count": 31,
   "id": "e2b10fd9-4c4a-42b0-ad08-03006c2d687f",
   "metadata": {},
   "outputs": [
    {
     "name": "stdout",
     "output_type": "stream",
     "text": [
      "Model: \"encoder\"\n",
      "__________________________________________________________________________________________________\n",
      "Layer (type)                    Output Shape         Param #     Connected to                     \n",
      "==================================================================================================\n",
      "input_2 (InputLayer)            [(None, 28, 28, 1)]  0                                            \n",
      "__________________________________________________________________________________________________\n",
      "conv2d_2 (Conv2D)               (None, 28, 28, 6)    156         input_2[0][0]                    \n",
      "__________________________________________________________________________________________________\n",
      "max_pooling2d_2 (MaxPooling2D)  (None, 14, 14, 6)    0           conv2d_2[0][0]                   \n",
      "__________________________________________________________________________________________________\n",
      "conv2d_3 (Conv2D)               (None, 10, 10, 16)   2416        max_pooling2d_2[0][0]            \n",
      "__________________________________________________________________________________________________\n",
      "max_pooling2d_3 (MaxPooling2D)  (None, 5, 5, 16)     0           conv2d_3[0][0]                   \n",
      "__________________________________________________________________________________________________\n",
      "flatten_1 (Flatten)             (None, 400)          0           max_pooling2d_3[0][0]            \n",
      "__________________________________________________________________________________________________\n",
      "dense_2 (Dense)                 (None, 20)           8020        flatten_1[0][0]                  \n",
      "__________________________________________________________________________________________________\n",
      "tf.split_1 (TFOpLambda)         [(None, 10), (None,  0           dense_2[0][0]                    \n",
      "__________________________________________________________________________________________________\n",
      "tf.math.multiply_2 (TFOpLambda) (None, 10)           0           tf.split_1[0][1]                 \n",
      "__________________________________________________________________________________________________\n",
      "tf.compat.v1.shape_1 (TFOpLambd (2,)                 0           tf.split_1[0][0]                 \n",
      "__________________________________________________________________________________________________\n",
      "tf.math.exp_1 (TFOpLambda)      (None, 10)           0           tf.math.multiply_2[0][0]         \n",
      "__________________________________________________________________________________________________\n",
      "tf.random.normal_1 (TFOpLambda) (None, 10)           0           tf.compat.v1.shape_1[0][0]       \n",
      "__________________________________________________________________________________________________\n",
      "tf.math.multiply_3 (TFOpLambda) (None, 10)           0           tf.math.exp_1[0][0]              \n",
      "                                                                 tf.random.normal_1[0][0]         \n",
      "__________________________________________________________________________________________________\n",
      "tf.__operators__.add_1 (TFOpLam (None, 10)           0           tf.split_1[0][0]                 \n",
      "                                                                 tf.math.multiply_3[0][0]         \n",
      "__________________________________________________________________________________________________\n",
      "dense_3 (Dense)                 (None, 400)          4400        tf.__operators__.add_1[0][0]     \n",
      "__________________________________________________________________________________________________\n",
      "reshape_1 (Reshape)             (None, 5, 5, 16)     0           dense_3[0][0]                    \n",
      "__________________________________________________________________________________________________\n",
      "up_sampling2d_2 (UpSampling2D)  (None, 10, 10, 16)   0           reshape_1[0][0]                  \n",
      "__________________________________________________________________________________________________\n",
      "conv2d_transpose_3 (Conv2DTrans (None, 14, 14, 16)   6416        up_sampling2d_2[0][0]            \n",
      "__________________________________________________________________________________________________\n",
      "up_sampling2d_3 (UpSampling2D)  (None, 28, 28, 16)   0           conv2d_transpose_3[0][0]         \n",
      "__________________________________________________________________________________________________\n",
      "conv2d_transpose_4 (Conv2DTrans (None, 28, 28, 6)    2406        up_sampling2d_3[0][0]            \n",
      "__________________________________________________________________________________________________\n",
      "conv2d_transpose_5 (Conv2DTrans (None, 28, 28, 1)    55          conv2d_transpose_4[0][0]         \n",
      "==================================================================================================\n",
      "Total params: 23,869\n",
      "Trainable params: 23,869\n",
      "Non-trainable params: 0\n",
      "__________________________________________________________________________________________________\n"
     ]
    }
   ],
   "source": [
    "input_img = tf.keras.Input(shape=(28,28,1))\n",
    "output_img, mean, logvar = vae(input_img)\n",
    "model = tf.keras.Model(input_img, [output_img, mean, logvar], name = 'encoder')\n",
    "model.summary()"
   ]
  },
  {
   "cell_type": "code",
   "execution_count": 32,
   "id": "cb767c88-186a-405b-9bdd-d741eb1a75c8",
   "metadata": {},
   "outputs": [],
   "source": [
    "def compute_loss(x,x_generated, mean, logvar):\n",
    "    reconstruction_error = tf.reduce_sum(tf.square(x-x_generated), axis=[1,2,3])\n",
    "    KL_divergence = 0.5*tf.reduce_sum(tf.exp(logvar)-logvar+tf.square(mean)-1, axis=1)\n",
    "    vae_loss = tf.reduce_mean(reconstruction_error+KL_divergence)\n",
    "    \n",
    "    return vae_loss"
   ]
  },
  {
   "cell_type": "code",
   "execution_count": 33,
   "id": "20ae5c5e-a307-441e-afae-ce0836e10961",
   "metadata": {},
   "outputs": [
    {
     "name": "stdout",
     "output_type": "stream",
     "text": [
      "Step: 100, Test set loss: 46.18888473510742, timpe elapse for current epoch: 1.2879917621612549\n",
      "Step: 200, Test set loss: 38.56757354736328, timpe elapse for current epoch: 2.37031626701355\n",
      "Step: 300, Test set loss: 35.23427200317383, timpe elapse for current epoch: 3.6407134532928467\n",
      "Step: 400, Test set loss: 33.14338684082031, timpe elapse for current epoch: 4.691702365875244\n",
      "Step: 500, Test set loss: 31.723190307617188, timpe elapse for current epoch: 5.728875637054443\n",
      "Step: 600, Test set loss: 31.363882064819336, timpe elapse for current epoch: 6.706120252609253\n",
      "Step: 700, Test set loss: 30.3768367767334, timpe elapse for current epoch: 8.10715627670288\n",
      "Step: 800, Test set loss: 30.090789794921875, timpe elapse for current epoch: 9.30304503440857\n",
      "Step: 900, Test set loss: 29.77467155456543, timpe elapse for current epoch: 10.434165239334106\n",
      "Step: 1000, Test set loss: 29.382925033569336, timpe elapse for current epoch: 11.517999410629272\n",
      "Step: 1100, Test set loss: 29.2677059173584, timpe elapse for current epoch: 12.499087810516357\n",
      "Step: 1200, Test set loss: 29.114627838134766, timpe elapse for current epoch: 13.712836027145386\n",
      "Step: 1300, Test set loss: 28.964069366455078, timpe elapse for current epoch: 14.739698886871338\n",
      "Step: 1400, Test set loss: 29.112369537353516, timpe elapse for current epoch: 15.790342569351196\n",
      "Step: 1500, Test set loss: 28.545894622802734, timpe elapse for current epoch: 16.91881775856018\n",
      "Step: 1600, Test set loss: 28.673002243041992, timpe elapse for current epoch: 18.063291311264038\n",
      "Step: 1700, Test set loss: 28.400630950927734, timpe elapse for current epoch: 19.17538356781006\n",
      "Step: 1800, Test set loss: 28.184938430786133, timpe elapse for current epoch: 20.211178302764893\n",
      "Step: 1900, Test set loss: 28.043272018432617, timpe elapse for current epoch: 21.24266290664673\n",
      "Step: 2000, Test set loss: 27.887069702148438, timpe elapse for current epoch: 22.40562105178833\n",
      "Step: 2100, Test set loss: 27.86539649963379, timpe elapse for current epoch: 23.412904500961304\n",
      "Step: 2200, Test set loss: 27.905399322509766, timpe elapse for current epoch: 24.443766593933105\n",
      "Step: 2300, Test set loss: 27.73489761352539, timpe elapse for current epoch: 25.852375268936157\n",
      "Step: 2400, Test set loss: 27.79743194580078, timpe elapse for current epoch: 26.881798267364502\n",
      "Step: 2500, Test set loss: 27.706390380859375, timpe elapse for current epoch: 27.92118740081787\n",
      "Step: 2600, Test set loss: 27.606321334838867, timpe elapse for current epoch: 28.971874475479126\n",
      "Step: 2700, Test set loss: 27.31328773498535, timpe elapse for current epoch: 30.013875484466553\n",
      "Step: 2800, Test set loss: 27.43637466430664, timpe elapse for current epoch: 31.39788293838501\n",
      "Step: 2900, Test set loss: 27.42057228088379, timpe elapse for current epoch: 32.77052164077759\n",
      "Step: 3000, Test set loss: 27.186119079589844, timpe elapse for current epoch: 33.82809114456177\n",
      "Step: 3100, Test set loss: 27.466331481933594, timpe elapse for current epoch: 34.84534287452698\n",
      "Step: 3200, Test set loss: 27.001787185668945, timpe elapse for current epoch: 35.91459012031555\n",
      "Step: 3300, Test set loss: 27.04256248474121, timpe elapse for current epoch: 37.00587344169617\n",
      "Step: 3400, Test set loss: 26.996196746826172, timpe elapse for current epoch: 38.05859684944153\n",
      "Step: 3500, Test set loss: 27.164043426513672, timpe elapse for current epoch: 39.119362354278564\n",
      "Step: 3600, Test set loss: 26.98358726501465, timpe elapse for current epoch: 40.21532487869263\n",
      "Step: 3700, Test set loss: 26.92085075378418, timpe elapse for current epoch: 41.24759554862976\n",
      "Step: 3800, Test set loss: 26.799480438232422, timpe elapse for current epoch: 42.30903601646423\n",
      "Step: 3900, Test set loss: 26.852561950683594, timpe elapse for current epoch: 43.49958658218384\n",
      "Step: 4000, Test set loss: 26.69411277770996, timpe elapse for current epoch: 44.5457649230957\n",
      "Step: 4100, Test set loss: 26.873947143554688, timpe elapse for current epoch: 45.62570524215698\n",
      "Step: 4200, Test set loss: 26.74822425842285, timpe elapse for current epoch: 46.660353899002075\n",
      "Step: 4300, Test set loss: 26.730188369750977, timpe elapse for current epoch: 47.78649353981018\n",
      "Step: 4400, Test set loss: 26.87563705444336, timpe elapse for current epoch: 49.36232542991638\n",
      "Step: 4500, Test set loss: 26.81354331970215, timpe elapse for current epoch: 50.392630100250244\n",
      "Step: 4600, Test set loss: 26.7972412109375, timpe elapse for current epoch: 51.618674755096436\n",
      "Step: 4700, Test set loss: 26.64110565185547, timpe elapse for current epoch: 52.64439272880554\n",
      "Step: 4800, Test set loss: 26.550830841064453, timpe elapse for current epoch: 53.64404273033142\n",
      "Step: 4900, Test set loss: 26.473718643188477, timpe elapse for current epoch: 54.9493842124939\n",
      "Step: 5000, Test set loss: 26.63471794128418, timpe elapse for current epoch: 55.96394491195679\n",
      "Step: 5100, Test set loss: 26.306190490722656, timpe elapse for current epoch: 56.974191665649414\n",
      "Step: 5200, Test set loss: 26.339590072631836, timpe elapse for current epoch: 57.958948612213135\n",
      "Step: 5300, Test set loss: 26.392528533935547, timpe elapse for current epoch: 59.1801917552948\n",
      "Step: 5400, Test set loss: 26.409137725830078, timpe elapse for current epoch: 60.21107816696167\n",
      "Step: 5500, Test set loss: 26.691877365112305, timpe elapse for current epoch: 61.31698560714722\n",
      "Step: 5600, Test set loss: 26.64044761657715, timpe elapse for current epoch: 62.40199279785156\n",
      "Step: 5700, Test set loss: 26.248947143554688, timpe elapse for current epoch: 63.375216245651245\n",
      "Step: 5800, Test set loss: 26.23532485961914, timpe elapse for current epoch: 64.88529872894287\n",
      "Step: 5900, Test set loss: 26.317663192749023, timpe elapse for current epoch: 65.92628073692322\n",
      "Step: 6000, Test set loss: 26.397565841674805, timpe elapse for current epoch: 66.95663380622864\n",
      "Step: 6100, Test set loss: 26.5209903717041, timpe elapse for current epoch: 67.9612329006195\n",
      "Step: 6200, Test set loss: 26.262649536132812, timpe elapse for current epoch: 69.09166884422302\n",
      "Step: 6300, Test set loss: 26.16464614868164, timpe elapse for current epoch: 70.09664702415466\n",
      "Step: 6400, Test set loss: 26.07391929626465, timpe elapse for current epoch: 71.13943290710449\n",
      "Step: 6500, Test set loss: 26.23863410949707, timpe elapse for current epoch: 72.23614287376404\n",
      "Step: 6600, Test set loss: 26.28598403930664, timpe elapse for current epoch: 73.50335001945496\n",
      "Step: 6700, Test set loss: 26.075252532958984, timpe elapse for current epoch: 74.86510372161865\n",
      "Step: 6800, Test set loss: 26.085599899291992, timpe elapse for current epoch: 75.98049092292786\n",
      "Step: 6900, Test set loss: 26.026588439941406, timpe elapse for current epoch: 76.96265316009521\n",
      "Step: 7000, Test set loss: 26.28668212890625, timpe elapse for current epoch: 78.10506391525269\n",
      "Step: 7100, Test set loss: 26.128013610839844, timpe elapse for current epoch: 79.15620279312134\n",
      "Step: 7200, Test set loss: 26.087779998779297, timpe elapse for current epoch: 80.18152260780334\n",
      "Step: 7300, Test set loss: 26.438377380371094, timpe elapse for current epoch: 81.21859765052795\n",
      "Step: 7400, Test set loss: 25.918304443359375, timpe elapse for current epoch: 82.23762106895447\n",
      "Step: 7500, Test set loss: 26.062694549560547, timpe elapse for current epoch: 83.26397895812988\n",
      "Step: 7600, Test set loss: 25.89063262939453, timpe elapse for current epoch: 84.28733134269714\n",
      "Step: 7700, Test set loss: 25.913877487182617, timpe elapse for current epoch: 85.37145400047302\n",
      "Step: 7800, Test set loss: 25.96489906311035, timpe elapse for current epoch: 86.46210098266602\n",
      "Step: 7900, Test set loss: 25.853071212768555, timpe elapse for current epoch: 87.49137902259827\n",
      "Step: 8000, Test set loss: 25.923646926879883, timpe elapse for current epoch: 88.47888731956482\n",
      "Step: 8100, Test set loss: 25.916231155395508, timpe elapse for current epoch: 89.67105436325073\n",
      "Step: 8200, Test set loss: 25.957910537719727, timpe elapse for current epoch: 90.69182205200195\n",
      "Step: 8300, Test set loss: 25.8230037689209, timpe elapse for current epoch: 91.70976328849792\n",
      "Step: 8400, Test set loss: 25.93433380126953, timpe elapse for current epoch: 92.77140998840332\n",
      "Step: 8500, Test set loss: 25.98641586303711, timpe elapse for current epoch: 93.76699352264404\n",
      "Step: 8600, Test set loss: 26.060165405273438, timpe elapse for current epoch: 94.77909922599792\n",
      "Step: 8700, Test set loss: 25.889610290527344, timpe elapse for current epoch: 95.80060482025146\n",
      "Step: 8800, Test set loss: 25.84807586669922, timpe elapse for current epoch: 96.82987809181213\n",
      "Step: 8900, Test set loss: 25.751890182495117, timpe elapse for current epoch: 97.88174700737\n",
      "Step: 9000, Test set loss: 25.804853439331055, timpe elapse for current epoch: 98.88033509254456\n",
      "Step: 9100, Test set loss: 25.674362182617188, timpe elapse for current epoch: 99.87283658981323\n",
      "Step: 9200, Test set loss: 26.0815486907959, timpe elapse for current epoch: 101.11312794685364\n",
      "Step: 9300, Test set loss: 25.78172492980957, timpe elapse for current epoch: 102.14532566070557\n",
      "Step: 9400, Test set loss: 25.66868782043457, timpe elapse for current epoch: 103.16514849662781\n",
      "Step: 9500, Test set loss: 25.929340362548828, timpe elapse for current epoch: 104.19550561904907\n",
      "Step: 9600, Test set loss: 25.735429763793945, timpe elapse for current epoch: 105.34198689460754\n",
      "Step: 9700, Test set loss: 25.90177345275879, timpe elapse for current epoch: 106.533367395401\n",
      "Step: 9800, Test set loss: 25.743772506713867, timpe elapse for current epoch: 107.55805778503418\n",
      "Step: 9900, Test set loss: 25.826932907104492, timpe elapse for current epoch: 108.57698202133179\n",
      "Step: 10000, Test set loss: 25.625995635986328, timpe elapse for current epoch: 109.61640763282776\n"
     ]
    }
   ],
   "source": [
    "import time\n",
    "\n",
    "train_data = tf.data.Dataset.from_tensor_slices(x_train)\n",
    "train_data = train_data.repeat().shuffle(5000).batch(batch_size).prefetch(1)\n",
    "\n",
    "optimizer = tf.optimizers.Adam()\n",
    "\n",
    "start_time = time.time()\n",
    "for step, batch_x in enumerate(train_data.take(training_steps),1):\n",
    "    with tf.GradientTape() as tape:\n",
    "        x_out, z_mean, z_logvar = model(batch_x)\n",
    "        loss = compute_loss(batch_x, x_out, z_mean, z_logvar)\n",
    "        \n",
    "    gradients = tape.gradient(loss, model.trainable_variables)\n",
    "    optimizer.apply_gradients(zip(gradients, model.trainable_variables))\n",
    "    \n",
    "    if step%100 ==0:\n",
    "        end_time = time.time()\n",
    "        \n",
    "        x_out, z_mean, z_logvar = model(x_test)\n",
    "        loss = compute_loss(x_test, x_out, z_mean, z_logvar)\n",
    "        print('Step: {}, Test set loss: {}, timpe elapse for current epoch: {}'.format(step, loss, end_time-start_time))\n",
    "        "
   ]
  },
  {
   "cell_type": "code",
   "execution_count": 34,
   "id": "c50b23ed-5228-4664-8607-28fa290bf887",
   "metadata": {},
   "outputs": [
    {
     "data": {
      "image/png": "[encoded data removed]",
      "text/plain": [
       "<Figure size 1440x288 with 20 Axes>"
      ]
     },
     "metadata": {
      "needs_background": "light"
     },
     "output_type": "display_data"
    }
   ],
   "source": [
    "import matplotlib.pyplot as plt\n",
    "\n",
    "n=10 \n",
    "\n",
    "decoded_imgs,_,_ = model(x_test)\n",
    "\n",
    "plt.figure(figsize=(20,4))\n",
    "for i in range(n):\n",
    "    \n",
    "    ax = plt.subplot(2,n,i+1)\n",
    "    plt.title('original + noise')\n",
    "    plt.imshow(tf.squeeze(x_test[i]))\n",
    "    plt.gray()\n",
    "    ax.get_xaxis().set_visible(False)\n",
    "    ax.get_yaxis().set_visible(False)\n",
    "    \n",
    "    bx = plt.subplot(2,n,i+n+1)\n",
    "    plt.title('reconstructed')\n",
    "    plt.imshow(tf.squeeze(decoded_imgs[i]))\n",
    "    plt.gray()\n",
    "    bx.get_xaxis().set_visible(False)\n",
    "    bx.get_yaxis().set_visible(False)\n",
    "    \n",
    "plt.show()"
   ]
  },
  {
   "cell_type": "code",
   "execution_count": 35,
   "id": "7851ea0d-20ea-4596-b697-0db644d6b344",
   "metadata": {},
   "outputs": [],
   "source": [
    "def vae_decoder(z):\n",
    "    _dense_T = dense_T(z)\n",
    "    _reshape = reshape(_dense_T)\n",
    "    _upsample1 = upsample1(_reshape)\n",
    "    _conv1_T = conv1_T(_upsample1)\n",
    "    _upsample2 = upsample2(_conv1_T)\n",
    "    _conv2_T = conv2_T(_upsample2)\n",
    "    logits = output_T(_conv2_T)\n",
    "    \n",
    "    return logits"
   ]
  },
  {
   "cell_type": "code",
   "execution_count": 36,
   "id": "cbcbecd9-9e16-4568-98a2-3434d61ca1f8",
   "metadata": {},
   "outputs": [
    {
     "name": "stdout",
     "output_type": "stream",
     "text": [
      "(10, 10)\n"
     ]
    }
   ],
   "source": [
    "z =np.random.normal(size = (10,10))\n",
    "print(z.shape)\n",
    "\n",
    "recon = vae_decoder(z)\n",
    "print(recon.shape)"
   ]
  },
  {
   "cell_type": "code",
   "execution_count": 37,
   "id": "c6ae53d2-5a77-4d3a-82b8-b346ed386b9e",
   "metadata": {},
   "outputs": [
    {
     "data": {
      "image/png": "[encoded data removed]",
      "text/plain": [
       "<Figure size 1440x288 with 10 Axes>"
      ]
     },
     "metadata": {
      "needs_background": "light"
     },
     "output_type": "display_data"
    }
   ],
   "source": [
    "plt.figure(figsize=(20,4))\n",
    "for i in range(10):\n",
    "    ax = plt.subplot(2,n,i+1)\n",
    "    plt.imshow(tf.squeeze(recon[i]))\n",
    "    plt.gray()\n",
    "    ax.get_xaxis().set_visible(False)\n",
    "    ax.get_yaxis().set_visible(False)\n",
    "    \n",
    "plt.show()"
   ]
  },
  {
   "cell_type": "code",
   "execution_count": null,
   "id": "64d38b6b-7a37-426f-bce7-be15c44fbdf1",
   "metadata": {},
   "outputs": [],
   "source": []
  },
  {
   "cell_type": "code",
   "execution_count": null,
   "id": "ac63241c-b6fc-4ee2-9682-94a80913618f",
   "metadata": {},
   "outputs": [],
   "source": []
  },
  {
   "cell_type": "code",
   "execution_count": null,
   "id": "6689c431-ffca-4b61-b076-d42131ab297e",
   "metadata": {},
   "outputs": [],
   "source": []
  },
  {
   "cell_type": "code",
   "execution_count": null,
   "id": "83ecfc6a-20db-42d8-ba21-9602a566eb21",
   "metadata": {},
   "outputs": [],
   "source": []
  }
 ],
 "metadata": {
  "kernelspec": {
   "display_name": "tf2",
   "language": "python",
   "name": "tf2"
  },
  "language_info": {
   "codemirror_mode": {
    "name": "ipython",
    "version": 3
   },
   "file_extension": ".py",
   "mimetype": "text/x-python",
   "name": "python",
   "nbconvert_exporter": "python",
   "pygments_lexer": "ipython3",
   "version": "3.8.12"
  }
 },
 "nbformat": 4,
 "nbformat_minor": 5
}
