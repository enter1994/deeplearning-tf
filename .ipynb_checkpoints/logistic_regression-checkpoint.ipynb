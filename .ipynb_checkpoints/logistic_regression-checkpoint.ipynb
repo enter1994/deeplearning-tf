{
 "cells": [
  {
   "cell_type": "markdown",
   "id": "0d25d978-0237-442f-861e-cd2a33f352d5",
   "metadata": {},
   "source": [
    "logistic regression\n",
    "- gradient descent\n",
    "- Vectorization\n",
    "- Model training with MNIST dataset"
   ]
  },
  {
   "cell_type": "code",
   "execution_count": 5,
   "id": "4c48bacd-687c-41b4-9317-ded9a816269d",
   "metadata": {},
   "outputs": [],
   "source": [
    "# db, db0 = 0\n",
    "# for x, y in data:\n",
    "#     db += (y - 1/(1+np.exp(-np.dot(b,x)-b0))) * x\n",
    "#     db0 += (y - 1/(1+np.exp(-np.dot(b,x)-b0)))"
   ]
  },
  {
   "cell_type": "markdown",
   "id": "64aa53bc-1f5c-4406-baac-44f5267e6ff6",
   "metadata": {},
   "source": [
    "Binary logistic regression"
   ]
  },
  {
   "cell_type": "code",
   "execution_count": 18,
   "id": "2095f042-6eca-41b4-828c-3b15234b3c57",
   "metadata": {},
   "outputs": [],
   "source": [
    "import numpy as np\n",
    "import tensorflow as tf"
   ]
  },
  {
   "cell_type": "code",
   "execution_count": 24,
   "id": "0439b721-80f7-4367-9275-3f4696b0942a",
   "metadata": {},
   "outputs": [],
   "source": [
    "# MNIST dataset parameters\n",
    "num_classes = 10 # 0 to 9 digits\n",
    "num_features = 784 # 28*28\n",
    "\n",
    "# training parameters\n",
    "learning_rate = 0.0001\n",
    "training_steps = 50\n",
    "batch_size = 256\n",
    "display_step = 50"
   ]
  },
  {
   "cell_type": "code",
   "execution_count": 25,
   "id": "75a380f0-1c59-405a-a756-13572c89bbcc",
   "metadata": {},
   "outputs": [],
   "source": [
    "from tensorflow.keras.datasets import mnist\n",
    "\n",
    "(x_train, y_train), (x_test, y_test) = mnist.load_data()"
   ]
  },
  {
   "cell_type": "code",
   "execution_count": 26,
   "id": "b763d7f2-b1f1-45c2-80c6-3ae776750ad7",
   "metadata": {},
   "outputs": [
    {
     "name": "stdout",
     "output_type": "stream",
     "text": [
      "(60000, 28, 28)\n",
      "(60000,)\n"
     ]
    }
   ],
   "source": [
    "print(x_train.shape)\n",
    "print(y_train.shape)"
   ]
  },
  {
   "cell_type": "code",
   "execution_count": 27,
   "id": "9d83312e-2cf8-4506-8d89-209c51e2822e",
   "metadata": {},
   "outputs": [],
   "source": [
    "# use 0 and 1 digits for binary classification\n",
    "x_train, y_train = map(list, zip(*[(x, y) for x, y in zip(x_train, y_train) if y==0 or y==1]))\n",
    "x_test, y_test = map(list, zip(*[(x, y) for x, y in zip(x_test, y_test) if y==0 or y==1]))\n",
    "\n",
    "# convert to float32\n",
    "x_train, x_test = np.array(x_train, np.float32), np.array(x_test, np.float32)\n",
    "y_train, y_test = np.array(y_train, np.float32), np.array(y_test, np.float32)\n",
    "\n",
    "# Flatten images to 1-D vector of 784 features\n",
    "x_train, x_test = x_train.reshape([-1, num_features]), x_test.reshape([-1, num_features])\n",
    "\n",
    "# Normalize images value from [0,255] to [0,1]\n",
    "x_train, x_test = x_train / 255., x_test / 255."
   ]
  },
  {
   "cell_type": "code",
   "execution_count": 28,
   "id": "6c65b460-72c3-40a9-a0d1-27131d52a7b9",
   "metadata": {},
   "outputs": [
    {
     "name": "stdout",
     "output_type": "stream",
     "text": [
      "(12665, 784)\n",
      "(2115, 784)\n"
     ]
    }
   ],
   "source": [
    "print(x_train.shape)\n",
    "print(x_test.shape)"
   ]
  },
  {
   "cell_type": "code",
   "execution_count": 30,
   "id": "8c4ee9f9-8fe9-4840-88c5-e7b2ad0d4898",
   "metadata": {},
   "outputs": [],
   "source": [
    "def logistic_regression(x, b, b0):\n",
    "    return 1. / (1. + np.exp(-np.dot(b,x)-b0))"
   ]
  },
  {
   "cell_type": "code",
   "execution_count": 34,
   "id": "343304dc-5932-46dd-87ad-de1dcaa09690",
   "metadata": {},
   "outputs": [],
   "source": [
    "# y_pred 0~1 , y_true 0~1\n",
    "def accuracy(y_pred, y_true):\n",
    "    correct_prediction = np.equal(np.round(y_pred), y_true.astype(np.int64))\n",
    "    return np.mean(correct_prediction.astype(np.float32))"
   ]
  },
  {
   "cell_type": "code",
   "execution_count": 36,
   "id": "aa6c90ba-e50e-4772-8606-814a78ac7b90",
   "metadata": {},
   "outputs": [],
   "source": [
    "def logistic_regression_wo_vectorization(x_test, b, b0):\n",
    "    pred = list()\n",
    "    for t in x_test:\n",
    "        pred.append(logistic_regression(t, b, b0))\n",
    "    \n",
    "    return pred"
   ]
  },
  {
   "cell_type": "code",
   "execution_count": 33,
   "id": "1def2ee1-e3db-4673-8942-31847b48f99e",
   "metadata": {},
   "outputs": [],
   "source": [
    "b = np.random.uniform(-1, 1, num_features)\n",
    "b0 = np.random.uniform(-1, 1)\n",
    "\n",
    "for step in range(training_steps):\n",
    "    db = np.zeros(num_features, dtype='float32')\n",
    "    db0 = 0.\n",
    "    \n",
    "    for x, y in zip(x_train, y_train):\n",
    "        a = logistic_regression(x,b,b0)\n",
    "        db += (y-a) * x\n",
    "        db += y-a\n",
    "        \n",
    "    b += learning_rate * db\n",
    "    b0 += learning_rate * db0"
   ]
  },
  {
   "cell_type": "code",
   "execution_count": 37,
   "id": "5b108666-137e-46e5-85c6-f617eb2dcf50",
   "metadata": {},
   "outputs": [
    {
     "name": "stdout",
     "output_type": "stream",
     "text": [
      "Test Accuracy: 0.998582\n"
     ]
    }
   ],
   "source": [
    "pred=logistic_regression_wo_vectorization(x_test, b, b0)\n",
    "print(\"Test Accuracy: %f\" % accuracy(pred, y_test))"
   ]
  },
  {
   "cell_type": "code",
   "execution_count": null,
   "id": "0e1724ff-d5a6-4426-81d2-8482400cd8bd",
   "metadata": {},
   "outputs": [],
   "source": []
  },
  {
   "cell_type": "code",
   "execution_count": null,
   "id": "a52a31e7-4e5e-462f-8cb6-b1ca431ea5bc",
   "metadata": {},
   "outputs": [],
   "source": []
  },
  {
   "cell_type": "code",
   "execution_count": null,
   "id": "af401e0f-60c4-435a-8fdd-d729a848ceae",
   "metadata": {},
   "outputs": [],
   "source": []
  },
  {
   "cell_type": "code",
   "execution_count": null,
   "id": "39d30759-b1db-449e-82d3-d699bf8c9762",
   "metadata": {},
   "outputs": [],
   "source": []
  },
  {
   "cell_type": "code",
   "execution_count": null,
   "id": "edb69f39-b176-4a97-be3f-1ae93bc28236",
   "metadata": {},
   "outputs": [],
   "source": []
  },
  {
   "cell_type": "code",
   "execution_count": null,
   "id": "0ea9d498-a1c1-448c-95e9-4e76555394eb",
   "metadata": {},
   "outputs": [],
   "source": []
  },
  {
   "cell_type": "code",
   "execution_count": null,
   "id": "8e092a6d-bb66-4a0d-a7c5-925b8979ffb7",
   "metadata": {},
   "outputs": [],
   "source": []
  },
  {
   "cell_type": "code",
   "execution_count": null,
   "id": "995805de-5f41-477c-840f-6f7773933b20",
   "metadata": {},
   "outputs": [],
   "source": []
  },
  {
   "cell_type": "code",
   "execution_count": null,
   "id": "d4305ed5-0e90-48ab-aa1c-a8007356ae3b",
   "metadata": {},
   "outputs": [],
   "source": []
  },
  {
   "cell_type": "code",
   "execution_count": null,
   "id": "b6ea0446-f2a0-491c-ac5c-f31a0cea08c0",
   "metadata": {},
   "outputs": [],
   "source": []
  },
  {
   "cell_type": "code",
   "execution_count": null,
   "id": "3bcd22ef-b96e-4a60-9c32-6844b1e050d6",
   "metadata": {},
   "outputs": [],
   "source": []
  }
 ],
 "metadata": {
  "kernelspec": {
   "display_name": "Python 3 (ipykernel)",
   "language": "python",
   "name": "python3"
  },
  "language_info": {
   "codemirror_mode": {
    "name": "ipython",
    "version": 3
   },
   "file_extension": ".py",
   "mimetype": "text/x-python",
   "name": "python",
   "nbconvert_exporter": "python",
   "pygments_lexer": "ipython3",
   "version": "3.8.11"
  }
 },
 "nbformat": 4,
 "nbformat_minor": 5
}
