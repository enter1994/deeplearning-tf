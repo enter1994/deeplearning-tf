{
  "nbformat": 4,
  "nbformat_minor": 5,
  "metadata": {
    "kernelspec": {
      "display_name": "Python 3 (ipykernel)",
      "language": "python",
      "name": "python3"
    },
    "language_info": {
      "codemirror_mode": {
        "name": "ipython",
        "version": 3
      },
      "file_extension": ".py",
      "mimetype": "text/x-python",
      "name": "python",
      "nbconvert_exporter": "python",
      "pygments_lexer": "ipython3",
      "version": "3.8.11"
    },
    "colab": {
      "name": "mini_batch.ipynb",
      "provenance": []
    }
  },
  "cells": [
    {
      "cell_type": "code",
      "metadata": {
        "id": "f74ff8d5"
      },
      "source": [
        "import numpy as np\n",
        "import tensorflow as tf\n",
        "import time"
      ],
      "id": "f74ff8d5",
      "execution_count": 1,
      "outputs": []
    },
    {
      "cell_type": "code",
      "metadata": {
        "id": "83fa18e8"
      },
      "source": [
        "# MNIST dataset parameters\n",
        "num_classes = 10 # 0 to 9 digits\n",
        "num_features = 784 # 28*28\n",
        "\n",
        "# training parameters\n",
        "learning_rate = 0.0001\n",
        "training_steps = 3000\n",
        "batch_size = 256\n",
        "display_step = 50"
      ],
      "id": "83fa18e8",
      "execution_count": 2,
      "outputs": []
    },
    {
      "cell_type": "code",
      "metadata": {
        "colab": {
          "base_uri": "https://localhost:8080/"
        },
        "id": "11bcfd2a",
        "outputId": "774f20de-29a9-4880-a408-24f4dd7df803"
      },
      "source": [
        "from tensorflow.keras.datasets import mnist\n",
        "\n",
        "(x_train, y_train), (x_test, y_test) = mnist.load_data()"
      ],
      "id": "11bcfd2a",
      "execution_count": 3,
      "outputs": [
        {
          "output_type": "stream",
          "name": "stdout",
          "text": [
            "Downloading data from https://storage.googleapis.com/tensorflow/tf-keras-datasets/mnist.npz\n",
            "11493376/11490434 [==============================] - 0s 0us/step\n",
            "11501568/11490434 [==============================] - 0s 0us/step\n"
          ]
        }
      ]
    },
    {
      "cell_type": "code",
      "metadata": {
        "colab": {
          "base_uri": "https://localhost:8080/"
        },
        "id": "d3f39fc0",
        "outputId": "5914226d-26a2-46b3-eca1-3e30ba40f9f5"
      },
      "source": [
        "print(x_train.shape)\n",
        "print(y_train.shape)"
      ],
      "id": "d3f39fc0",
      "execution_count": 4,
      "outputs": [
        {
          "output_type": "stream",
          "name": "stdout",
          "text": [
            "(60000, 28, 28)\n",
            "(60000,)\n"
          ]
        }
      ]
    },
    {
      "cell_type": "code",
      "metadata": {
        "id": "81e31ff6"
      },
      "source": [
        "# convert to float32\n",
        "x_train, x_test = np.array(x_train, np.float32), np.array(x_test, np.float32)\n",
        "\n",
        "# Flatten images to 1-D vector of 784 features\n",
        "x_train, x_test = x_train.reshape([-1, num_features]), x_test.reshape([-1, num_features])\n",
        "\n",
        "# Normalize images value from [0,255] to [0,1]\n",
        "x_train, x_test = x_train / 255., x_test / 255."
      ],
      "id": "81e31ff6",
      "execution_count": 5,
      "outputs": []
    },
    {
      "cell_type": "code",
      "metadata": {
        "colab": {
          "base_uri": "https://localhost:8080/"
        },
        "id": "811f0af4",
        "outputId": "3cd28d34-ae5c-4b45-c8c6-757501dda357"
      },
      "source": [
        "print(x_train.shape)\n",
        "print(x_test.shape)"
      ],
      "id": "811f0af4",
      "execution_count": 6,
      "outputs": [
        {
          "output_type": "stream",
          "name": "stdout",
          "text": [
            "(60000, 784)\n",
            "(10000, 784)\n"
          ]
        }
      ]
    },
    {
      "cell_type": "code",
      "metadata": {
        "id": "f6eb5ec2-ef8b-4bb2-9aa8-6fd99d22db10"
      },
      "source": [
        "train_data = tf.data.Dataset.from_tensor_slices((x_train, y_train))\n",
        "train_data = train_data.repeat().shuffle(5000).batch(batch_size).prefetch(1)"
      ],
      "id": "f6eb5ec2-ef8b-4bb2-9aa8-6fd99d22db10",
      "execution_count": 7,
      "outputs": []
    },
    {
      "cell_type": "code",
      "metadata": {
        "id": "dacff3ed"
      },
      "source": [
        "# y_pred 0~1 , y_true 0~1\n",
        "def accuracy(y_pred, y_true):\n",
        "    correct_prediction = np.equal(np.argmax(y_pred, axis=1), y_true.astype(np.int64))\n",
        "    return np.mean(correct_prediction.astype(np.float32))"
      ],
      "id": "dacff3ed",
      "execution_count": 9,
      "outputs": []
    },
    {
      "cell_type": "code",
      "metadata": {
        "id": "fbJE1g9UG2Oz"
      },
      "source": [
        "def regression(x,b,b0):\n",
        "    xx = np.exp(np.dot(x, b) + b0)\n",
        "    z = np.expand_dims(np.sum(xx, axis=1), axis=-1)\n",
        "    return xx/z"
      ],
      "id": "fbJE1g9UG2Oz",
      "execution_count": 10,
      "outputs": []
    },
    {
      "cell_type": "code",
      "metadata": {
        "colab": {
          "base_uri": "https://localhost:8080/"
        },
        "id": "66e0e9fe-cad9-47c5-8efb-ca295b2700ef",
        "outputId": "03fc6d85-8825-455b-f530-5371f6d5d5b7"
      },
      "source": [
        "# multiclass logistic regression with batch vectorization\n",
        "\n",
        "start = time.time()\n",
        "\n",
        "b = np.random.uniform(-1, 1, num_features*num_classes).reshape((num_features, num_classes))\n",
        "b0 = np.random.uniform(-1, 1, num_classes)\n",
        "\n",
        "for step, (batch_x, batch_y) in enumerate(train_data.take(training_steps), 1):\n",
        "    yy = tf.one_hot(batch_y, depth=num_classes).numpy()\n",
        "    a = regression(batch_x, b,  b0)\n",
        "    \n",
        "    db = np.sum(np.matmul(np.expand_dims(batch_x, axis=-1), np.expand_dims(yy-a, axis=-2)), axis=0) - np.sign(b)\n",
        "    db0 = np.sum(yy - a, axis=0)\n",
        "    \n",
        "    b += learning_rate * db\n",
        "    b0 += learning_rate * db0\n",
        "    \n",
        "    if step % display_step == 0:\n",
        "        pred = regression(batch_x, b, b0)\n",
        "        acc = accuracy(pred, batch_y.numpy())\n",
        "        print(\"step : %i, accuracy : %f\" % (step, acc*100))\n",
        "    \n",
        "print('execution time: {} sec'.format(time.time() - start))"
      ],
      "id": "66e0e9fe-cad9-47c5-8efb-ca295b2700ef",
      "execution_count": 19,
      "outputs": [
        {
          "output_type": "stream",
          "name": "stdout",
          "text": [
            "step : 50, accuracy : 18.359375\n",
            "step : 100, accuracy : 30.859375\n",
            "step : 150, accuracy : 34.765625\n",
            "step : 200, accuracy : 38.671875\n",
            "step : 250, accuracy : 49.609375\n",
            "step : 300, accuracy : 54.687500\n",
            "step : 350, accuracy : 58.984375\n",
            "step : 400, accuracy : 53.906250\n",
            "step : 450, accuracy : 60.937500\n",
            "step : 500, accuracy : 64.453125\n",
            "step : 550, accuracy : 67.187500\n",
            "step : 600, accuracy : 64.453125\n",
            "step : 650, accuracy : 67.187500\n",
            "step : 700, accuracy : 70.703125\n",
            "step : 750, accuracy : 66.796875\n",
            "step : 800, accuracy : 71.484375\n",
            "step : 850, accuracy : 66.796875\n",
            "step : 900, accuracy : 75.390625\n",
            "step : 950, accuracy : 77.343750\n",
            "step : 1000, accuracy : 71.484375\n",
            "step : 1050, accuracy : 74.609375\n",
            "step : 1100, accuracy : 73.828125\n",
            "step : 1150, accuracy : 80.078125\n",
            "step : 1200, accuracy : 78.515625\n",
            "step : 1250, accuracy : 73.828125\n",
            "step : 1300, accuracy : 81.250000\n",
            "step : 1350, accuracy : 75.000000\n",
            "step : 1400, accuracy : 79.296875\n",
            "step : 1450, accuracy : 76.562500\n",
            "step : 1500, accuracy : 86.328125\n",
            "step : 1550, accuracy : 78.125000\n",
            "step : 1600, accuracy : 82.031250\n",
            "step : 1650, accuracy : 86.328125\n",
            "step : 1700, accuracy : 83.203125\n",
            "step : 1750, accuracy : 75.781250\n",
            "step : 1800, accuracy : 80.078125\n",
            "step : 1850, accuracy : 82.031250\n",
            "step : 1900, accuracy : 83.593750\n",
            "step : 1950, accuracy : 82.812500\n",
            "step : 2000, accuracy : 79.687500\n",
            "step : 2050, accuracy : 79.687500\n",
            "step : 2100, accuracy : 81.250000\n",
            "step : 2150, accuracy : 82.421875\n",
            "step : 2200, accuracy : 82.421875\n",
            "step : 2250, accuracy : 80.859375\n",
            "step : 2300, accuracy : 82.031250\n",
            "step : 2350, accuracy : 83.593750\n",
            "step : 2400, accuracy : 84.765625\n",
            "step : 2450, accuracy : 86.328125\n",
            "step : 2500, accuracy : 83.203125\n",
            "step : 2550, accuracy : 84.375000\n",
            "step : 2600, accuracy : 82.031250\n",
            "step : 2650, accuracy : 81.640625\n",
            "step : 2700, accuracy : 80.078125\n",
            "step : 2750, accuracy : 84.375000\n",
            "step : 2800, accuracy : 83.984375\n",
            "step : 2850, accuracy : 83.593750\n",
            "step : 2900, accuracy : 87.890625\n",
            "step : 2950, accuracy : 79.296875\n",
            "step : 3000, accuracy : 86.718750\n",
            "execution time: 43.10895490646362 sec\n"
          ]
        }
      ]
    },
    {
      "cell_type": "code",
      "metadata": {
        "colab": {
          "base_uri": "https://localhost:8080/"
        },
        "id": "a65580ba-3f5b-4bcb-9ea8-82a94113f00b",
        "outputId": "47ad0043-7511-4b60-8557-91527a9929dc"
      },
      "source": [
        "pred = regression(x_test, b, b0)\n",
        "print(\"Test Accuracy: %f\" % accuracy(pred, y_test))"
      ],
      "id": "a65580ba-3f5b-4bcb-9ea8-82a94113f00b",
      "execution_count": 20,
      "outputs": [
        {
          "output_type": "stream",
          "name": "stdout",
          "text": [
            "Test Accuracy: 0.854900\n"
          ]
        }
      ]
    },
    {
      "cell_type": "code",
      "metadata": {
        "id": "yg1vA5PoJBm4"
      },
      "source": [
        ""
      ],
      "id": "yg1vA5PoJBm4",
      "execution_count": null,
      "outputs": []
    }
  ]
}